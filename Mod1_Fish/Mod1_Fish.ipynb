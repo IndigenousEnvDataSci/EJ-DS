{
 "cells": [
  {
   "cell_type": "markdown",
   "metadata": {},
   "source": [
    "# Module 1: Fish and heavy metal contaminants\n",
    "\n",
    "Members of the K�avi have fished the waters on their land for many years to provide food for their community. To manage these waters, K'avi tribal fishery managers have been monitoring fish growth rates across the local water bodies in their community.\n",
    "\n",
    "However, many members of the community have begun to experience health problems associated with heavy metal poisoning. Historically, a factory used to be located upstream of the riverways fished by the K�avi, and waste from this factory was dumped into the nearby waters. Tribal fishery managers are now concerned that members of the community are being exposed to heavy metals through the fish that have been caught in these waters. As a result, they now want to start recording the concentrations of methylmercury in the belly fat of fish in the area.\n"
   ]
  },
  {
   "cell_type": "code",
   "execution_count": 1,
   "metadata": {},
   "outputs": [
    {
     "name": "stderr",
     "output_type": "stream",
     "text": [
      "Loading required package: tidyverse\n",
      "\n",
      "── \u001b[1mAttaching core tidyverse packages\u001b[22m ─────────────────────────────────────────────────────────────────────── tidyverse 2.0.0 ──\n",
      "\u001b[32m✔\u001b[39m \u001b[34mdplyr    \u001b[39m 1.1.4     \u001b[32m✔\u001b[39m \u001b[34mreadr    \u001b[39m 2.1.5\n",
      "\u001b[32m✔\u001b[39m \u001b[34mforcats  \u001b[39m 1.0.0     \u001b[32m✔\u001b[39m \u001b[34mstringr  \u001b[39m 1.5.1\n",
      "\u001b[32m✔\u001b[39m \u001b[34mggplot2  \u001b[39m 3.5.1     \u001b[32m✔\u001b[39m \u001b[34mtibble   \u001b[39m 3.2.1\n",
      "\u001b[32m✔\u001b[39m \u001b[34mlubridate\u001b[39m 1.9.3     \u001b[32m✔\u001b[39m \u001b[34mtidyr    \u001b[39m 1.3.1\n",
      "\u001b[32m✔\u001b[39m \u001b[34mpurrr    \u001b[39m 1.0.2     \n",
      "── \u001b[1mConflicts\u001b[22m ───────────────────────────────────────────────────────────────────────────────────────── tidyverse_conflicts() ──\n",
      "\u001b[31m✖\u001b[39m \u001b[34mdplyr\u001b[39m::\u001b[32mfilter()\u001b[39m masks \u001b[34mstats\u001b[39m::filter()\n",
      "\u001b[31m✖\u001b[39m \u001b[34mdplyr\u001b[39m::\u001b[32mlag()\u001b[39m    masks \u001b[34mstats\u001b[39m::lag()\n",
      "\u001b[36mℹ\u001b[39m Use the conflicted package (\u001b[3m\u001b[34m<http://conflicted.r-lib.org/>\u001b[39m\u001b[23m) to force all conflicts to become errors\n"
     ]
    }
   ],
   "source": [
    "# Load necessary libraries\n",
    "if(!require(\"tidyverse\")) install.packages(\"tidyverse\")\n",
    "library(tidyverse)"
   ]
  },
  {
   "cell_type": "markdown",
   "metadata": {},
   "source": [
    "## Clearing Environment\n",
    "\n",
    "We clear the environment each time we open R to avoid leftover objects from previous sessions."
   ]
  },
  {
   "cell_type": "code",
   "execution_count": 2,
   "metadata": {},
   "outputs": [],
   "source": [
    "rm(list = ls())"
   ]
  },
  {
   "cell_type": "markdown",
   "metadata": {},
   "source": [
    "## Setting the Working Directory\n",
    "\n",
    "Setting the working directory allows R to locate files correctly."
   ]
  },
  {
   "cell_type": "code",
   "execution_count": 4,
   "metadata": {},
   "outputs": [
    {
     "data": {
      "text/html": [
       "'C:/Users/rdt47/Documents/GitHub/EJ-DS/Mod1_Fish'"
      ],
      "text/latex": [
       "'C:/Users/rdt47/Documents/GitHub/EJ-DS/Mod1\\_Fish'"
      ],
      "text/markdown": [
       "'C:/Users/rdt47/Documents/GitHub/EJ-DS/Mod1_Fish'"
      ],
      "text/plain": [
       "[1] \"C:/Users/rdt47/Documents/GitHub/EJ-DS/Mod1_Fish\""
      ]
     },
     "metadata": {},
     "output_type": "display_data"
    }
   ],
   "source": [
    "getwd()"
   ]
  },
  {
   "cell_type": "markdown",
   "metadata": {},
   "source": [
    "## Calculating screening values for mercury in fish"
   ]
  },
  {
   "cell_type": "code",
   "execution_count": 6,
   "metadata": {},
   "outputs": [
    {
     "name": "stdout",
     "output_type": "stream",
     "text": [
      "[1] 0.06545455\n"
     ]
    }
   ],
   "source": [
    "# Define variables\n",
    "weight = 160 # lbs\n",
    "days_per_week = 7\n",
    "\n",
    "# Constants\n",
    "RfD = 0.1 # ug mercury /kg body weight/day\n",
    "cr = 110*days_per_week/7\n",
    "\n",
    "# Calculate safe limit\n",
    "safe_limit = RfD * weight * 0.45 / cr\n",
    "\n",
    "print(safe_limit)"
   ]
  },
  {
   "cell_type": "markdown",
   "metadata": {},
   "source": [
    "### Creating and Manipulating Data Frames"
   ]
  },
  {
   "cell_type": "code",
   "execution_count": 7,
   "metadata": {},
   "outputs": [
    {
     "data": {
      "text/html": [
       "<table class=\"dataframe\">\n",
       "<caption>A data.frame: 3 × 3</caption>\n",
       "<thead>\n",
       "\t<tr><th scope=col>weight</th><th scope=col>serving</th><th scope=col>screen_val</th></tr>\n",
       "\t<tr><th scope=col>&lt;dbl&gt;</th><th scope=col>&lt;dbl&gt;</th><th scope=col>&lt;dbl&gt;</th></tr>\n",
       "</thead>\n",
       "<tbody>\n",
       "\t<tr><td>140</td><td>1</td><td>0.40090909</td></tr>\n",
       "\t<tr><td>175</td><td>6</td><td>0.08352273</td></tr>\n",
       "\t<tr><td>200</td><td>3</td><td>0.19090909</td></tr>\n",
       "</tbody>\n",
       "</table>\n"
      ],
      "text/latex": [
       "A data.frame: 3 × 3\n",
       "\\begin{tabular}{lll}\n",
       " weight & serving & screen\\_val\\\\\n",
       " <dbl> & <dbl> & <dbl>\\\\\n",
       "\\hline\n",
       "\t 140 & 1 & 0.40090909\\\\\n",
       "\t 175 & 6 & 0.08352273\\\\\n",
       "\t 200 & 3 & 0.19090909\\\\\n",
       "\\end{tabular}\n"
      ],
      "text/markdown": [
       "\n",
       "A data.frame: 3 × 3\n",
       "\n",
       "| weight &lt;dbl&gt; | serving &lt;dbl&gt; | screen_val &lt;dbl&gt; |\n",
       "|---|---|---|\n",
       "| 140 | 1 | 0.40090909 |\n",
       "| 175 | 6 | 0.08352273 |\n",
       "| 200 | 3 | 0.19090909 |\n",
       "\n"
      ],
      "text/plain": [
       "  weight serving screen_val\n",
       "1 140    1       0.40090909\n",
       "2 175    6       0.08352273\n",
       "3 200    3       0.19090909"
      ]
     },
     "metadata": {},
     "output_type": "display_data"
    }
   ],
   "source": [
    "# Create data frame\n",
    "weight = c(140, 175, 200)\n",
    "serving = c(1, 6, 3)\n",
    "sv_df <- data.frame(weight, serving)\n",
    "\n",
    "# Add column for screening value\n",
    "sv_df$screen_val = RfD * sv_df$weight * 0.45 / (110 * sv_df$serving / 7)\n",
    "sv_df"
   ]
  },
  {
   "cell_type": "markdown",
   "metadata": {},
   "source": [
    "### Plotting Screening Value vs. Servings Per Week"
   ]
  },
  {
   "cell_type": "code",
   "execution_count": 11,
   "metadata": {},
   "outputs": [
    {
     "data": {
      "image/png": "[encoded data removed]",
      "text/plain": [
       "plot without title"
      ]
     },
     "metadata": {
      "image/png": {
       "height": 420,
       "width": 420
      }
     },
     "output_type": "display_data"
    }
   ],
   "source": [
    "library(ggplot2)\n",
    "ggplot(sv_df) + geom_col(aes(x=serving, y=screen_val, fill=weight)) + theme_bw()"
   ]
  }
 ],
 "metadata": {
  "kernelspec": {
   "display_name": "R",
   "language": "R",
   "name": "ir"
  },
  "language_info": {
   "codemirror_mode": "r",
   "file_extension": ".r",
   "mimetype": "text/x-r-source",
   "name": "R",
   "pygments_lexer": "r",
   "version": "4.4.2"
  }
 },
 "nbformat": 4,
 "nbformat_minor": 4
}
